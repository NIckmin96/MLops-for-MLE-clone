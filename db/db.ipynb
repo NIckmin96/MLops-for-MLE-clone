{
 "cells": [
  {
   "cell_type": "code",
   "execution_count": 2,
   "metadata": {},
   "outputs": [],
   "source": [
    "import psycopg2\n",
    "import pandas as pd\n",
    "import numpy as np\n",
    "from sklearn.datasets import load_iris"
   ]
  },
  {
   "cell_type": "code",
   "execution_count": 3,
   "metadata": {},
   "outputs": [],
   "source": [
    "# DB Connetion\n",
    "db_connect = psycopg2.connect(\n",
    "    user = \"myuser\",\n",
    "    password= \"mypassword\",\n",
    "    host= \"localhost\",\n",
    "    port= 5432,\n",
    "    database= \"mydatabase\"\n",
    ")"
   ]
  },
  {
   "cell_type": "code",
   "execution_count": 4,
   "metadata": {},
   "outputs": [],
   "source": [
    "# Data Insertion\n",
    "X,y = load_iris(return_X_y=True, as_frame=True)\n",
    "df = pd.concat([X,y], axis=1)"
   ]
  },
  {
   "cell_type": "code",
   "execution_count": 5,
   "metadata": {},
   "outputs": [],
   "source": [
    "create_table_query = \"\"\"\n",
    "CREATE TABLE IF NOT EXISTS iris_data (\n",
    "    id SERIAL PRIMARY KEY,\n",
    "    timestamp timestamp,\n",
    "    sepal_length float8,\n",
    "    sepal_width float8,\n",
    "    petal_length float8,\n",
    "    petal_width float8,\n",
    "    target int\n",
    ");\"\"\""
   ]
  },
  {
   "cell_type": "code",
   "execution_count": 6,
   "metadata": {},
   "outputs": [],
   "source": [
    "with db_connect.cursor() as cur:\n",
    "    cur.execute(create_table_query)\n",
    "    db_connect.commit()"
   ]
  },
  {
   "cell_type": "code",
   "execution_count": 7,
   "metadata": {},
   "outputs": [],
   "source": [
    "def create_table(db_connect) : \n",
    "    create_table_query = \"\"\"\n",
    "    CREATE TABLE IF NOT EXISTS iris_data (\n",
    "        id SERIAL PRIMARY KEY,\n",
    "        timestamp timestamp,\n",
    "        sepal_length float8,\n",
    "        sepal_width float8,\n",
    "        petal_length float8,\n",
    "        petal_width float8,\n",
    "        target int\n",
    "    );\"\"\"\n",
    "    print(create_table_query)\n",
    "    with db_connect.cursor() as cur:\n",
    "        cur.execute(create_table_query)\n",
    "        db_connect.commit()"
   ]
  },
  {
   "attachments": {},
   "cell_type": "markdown",
   "metadata": {},
   "source": [
    "# Data Insertion"
   ]
  },
  {
   "cell_type": "code",
   "execution_count": 8,
   "metadata": {},
   "outputs": [],
   "source": [
    "# Data Insertion\n",
    "X,y = load_iris(return_X_y=True, as_frame=True)\n",
    "df = pd.concat([X,y], axis=1)\n",
    "# db에 있는 테이블의 column과 맞춰주기\n",
    "rename_rule = {\n",
    "    \"sepal length (cm)\" : \"sepal_length\",\n",
    "    \"sepal width (cm)\" : \"sepal_width\",\n",
    "    \"petal length (cm)\" : \"petal_length\",\n",
    "    \"petal width (cm)\" : \"petal_width\",\n",
    "}\n",
    "\n",
    "df = df.rename(columns=rename_rule)"
   ]
  },
  {
   "cell_type": "code",
   "execution_count": 9,
   "metadata": {},
   "outputs": [
    {
     "data": {
      "text/plain": [
       "Index(['sepal_length', 'sepal_width', 'petal_length', 'petal_width', 'target'], dtype='object')"
      ]
     },
     "execution_count": 9,
     "metadata": {},
     "output_type": "execute_result"
    }
   ],
   "source": [
    "df.columns"
   ]
  },
  {
   "cell_type": "code",
   "execution_count": 10,
   "metadata": {},
   "outputs": [],
   "source": [
    "# load 'iris data' -> rename\n",
    "def get_data() : \n",
    "    X,y = load_iris(return_X_y=True, as_frame=True)\n",
    "    df = pd.concat([X,y], axis = 1)\n",
    "    origin_columns = list(df.columns)[:-1]\n",
    "    new_columns = [(' ').join(col.split(' ', 2)[:-1]) for col in origin_columns]\n",
    "    new_columns.append('target')\n",
    "    df.columns = new_columns\n",
    "    \n",
    "    return df"
   ]
  },
  {
   "cell_type": "code",
   "execution_count": 13,
   "metadata": {},
   "outputs": [],
   "source": [
    "# insertion query\n",
    "# NOW() : timestamp\n",
    "        \n",
    "def insert_data(db_connect, data):\n",
    "    insert_row_query = f\"\"\"\n",
    "INSERT INTO iris_data\n",
    "    (timestamp, sepal_length, sepal_width, petal_length, petal_width, target)\n",
    "    VALUES (\n",
    "        NOW(),\n",
    "        {data.sepal_length},\n",
    "        {data.sepal_width},\n",
    "        {data.petal_length},\n",
    "        {data.petal_width},\n",
    "        {data.target});\"\"\"\n",
    "        \n",
    "    print(insert_row_query)\n",
    "    with db_connect.cursor() as cur:\n",
    "        cur.execute(insert_row_query)\n",
    "        db_connect.commit()"
   ]
  },
  {
   "attachments": {},
   "cell_type": "markdown",
   "metadata": {},
   "source": [
    "# Data Insertion Loop"
   ]
  },
  {
   "cell_type": "code",
   "execution_count": null,
   "metadata": {},
   "outputs": [],
   "source": [
    "import time\n",
    "\n",
    "def generate_data(db_connect, df):\n",
    "    while True:\n",
    "        insert_data(db_connect, df.sample(1).squeeze())\n",
    "        time.sleep(1)"
   ]
  }
 ],
 "metadata": {
  "kernelspec": {
   "display_name": "mlops",
   "language": "python",
   "name": "python3"
  },
  "language_info": {
   "codemirror_mode": {
    "name": "ipython",
    "version": 3
   },
   "file_extension": ".py",
   "mimetype": "text/x-python",
   "name": "python",
   "nbconvert_exporter": "python",
   "pygments_lexer": "ipython3",
   "version": "3.8.5"
  },
  "orig_nbformat": 4,
  "vscode": {
   "interpreter": {
    "hash": "27d9d00cf7576c901431fc6ce326eef92c73719111a943f13457105215f2b13e"
   }
  }
 },
 "nbformat": 4,
 "nbformat_minor": 2
}
